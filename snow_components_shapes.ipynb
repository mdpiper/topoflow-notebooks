{
 "cells": [
  {
   "cell_type": "markdown",
   "metadata": {},
   "source": [
    "# Shapes of variables in snow components"
   ]
  },
  {
   "cell_type": "markdown",
   "metadata": {},
   "source": [
    "**Problem:** There's an issue with setting the values of `h_snow` or `rho_snow` after initialization because of a conflict with the shapes of internal variables in the snow components. In each case, `set_value` works, but a failure occurs on calling `update`; in particular, on line 467, in `update_swe`, in **snow_base.py**.\n",
    "\n",
    "The shape conflict doesn't occur when setting `h_swe` or `SM`."
   ]
  },
  {
   "cell_type": "markdown",
   "metadata": {},
   "source": [
    "Import the Babel-wrapped `SnowDegreeDay` component and create an instance."
   ]
  },
  {
   "cell_type": "code",
   "execution_count": null,
   "metadata": {
    "collapsed": false
   },
   "outputs": [],
   "source": [
    "from cmt.components import SnowDegreeDay\n",
    "sno = SnowDegreeDay()"
   ]
  },
  {
   "cell_type": "markdown",
   "metadata": {},
   "source": [
    "Initialize the component."
   ]
  },
  {
   "cell_type": "code",
   "execution_count": null,
   "metadata": {
    "collapsed": false
   },
   "outputs": [],
   "source": [
    "sno.initialize('./input/snow_degree_day-1.cfg')"
   ]
  },
  {
   "cell_type": "markdown",
   "metadata": {},
   "source": [
    "Get the model time step (which has been broadcast over the grid)."
   ]
  },
  {
   "cell_type": "code",
   "execution_count": null,
   "metadata": {
    "collapsed": false
   },
   "outputs": [],
   "source": [
    "time_step = sno.get_value('model__time_step').max()\n",
    "print 'Time step = {} s'.format(time_step)"
   ]
  },
  {
   "cell_type": "markdown",
   "metadata": {},
   "source": [
    "Assign a new value to the snowpack depth. (Note that if this step is omitted, the model will update successfully.)"
   ]
  },
  {
   "cell_type": "code",
   "execution_count": null,
   "metadata": {
    "collapsed": false
   },
   "outputs": [],
   "source": [
    "sno.set_value('snowpack__depth', 0.6)  # [m]"
   ]
  },
  {
   "cell_type": "markdown",
   "metadata": {},
   "source": [
    "Check the new snowpack depth."
   ]
  },
  {
   "cell_type": "code",
   "execution_count": null,
   "metadata": {
    "collapsed": false
   },
   "outputs": [],
   "source": [
    "h_snow = sno.get_value('snowpack__depth')\n",
    "print h_snow.shape\n",
    "h_snow"
   ]
  },
  {
   "cell_type": "markdown",
   "metadata": {},
   "source": [
    "Advance the model."
   ]
  },
  {
   "cell_type": "code",
   "execution_count": null,
   "metadata": {
    "collapsed": false
   },
   "outputs": [],
   "source": [
    "sno.update(time_step)"
   ]
  },
  {
   "cell_type": "markdown",
   "metadata": {},
   "source": [
    "**Note:** I believe I've identified the issue. TopoFlow uses Numpy arrays for all internal variables, including scalars. At some point (my hunch is in the Babelized `set_value` method), a one-element list, instead of a single scalar value, was set as data for these variables. This caused the shape mismatches. I fixed this problem by adding a check in the `set_value` method that we grafted onto TopoFlow:\n",
    "\n",
    "```python\n",
    "if src.shape == (1,):\n",
    "  src = np.array(src[0])\n",
    "```\n",
    "\n",
    "This converts the one-element list into a scalar.\n",
    "\n",
    "I think this fix is robust."
   ]
  },
  {
   "cell_type": "markdown",
   "metadata": {},
   "source": [
    "Finalize the component."
   ]
  },
  {
   "cell_type": "code",
   "execution_count": null,
   "metadata": {
    "collapsed": false
   },
   "outputs": [],
   "source": [
    "sno.finalize()"
   ]
  },
  {
   "cell_type": "markdown",
   "metadata": {
    "collapsed": false
   },
   "source": [
    "**Result:** Problem solved, assuming my fix holds up."
   ]
  },
  {
   "cell_type": "markdown",
   "metadata": {
    "collapsed": false
   },
   "source": [
    "For reference, here's the stack trace of the error that had been occurring:\n",
    "\n",
    "```\n",
    "An error occured inside a babel wrapper. Here is the traceback.\n",
    "Traceback (most recent call last):\n",
    "  File \"/home/csdms/wmt/topoflow.0/csdms/install/lib/python2.7/site-packages/csdms/SnowDegreeDay_Impl.py\", line 696, in _wrap\n",
    "    return func(*args)\n",
    "  File \"/home/csdms/wmt/topoflow.0/csdms/install/lib/python2.7/site-packages/csdms/SnowDegreeDay_Impl.py\", line 107, in update\n",
    "    self._model.update_until(time_interval)\n",
    "  File \"/home/csdms/wmt/topoflow.0/cache/topoflow-12d38ce246/topoflow/utils/BMI_base.py\", line 1104, in update_until\n",
    "    self.update()\n",
    "  File \"/home/csdms/wmt/topoflow.0/cache/topoflow-12d38ce246/topoflow/components/snow_base.py\", line 238, in update\n",
    "    self.update_swe()\n",
    "  File \"/home/csdms/wmt/topoflow.0/cache/topoflow-12d38ce246/topoflow/components/snow_base.py\", line 467, in update_swe\n",
    "    self.h_swe -= dh2_swe\n",
    "ValueError: non-broadcastable output operand with shape () doesn't match the broadcast shape (1,)\n",
    "```"
   ]
  }
 ],
 "metadata": {
  "kernelspec": {
   "display_name": "Python 2",
   "language": "python",
   "name": "python2"
  },
  "language_info": {
   "codemirror_mode": {
    "name": "ipython",
    "version": 2
   },
   "file_extension": ".py",
   "mimetype": "text/x-python",
   "name": "python",
   "nbconvert_exporter": "python",
   "pygments_lexer": "ipython2",
   "version": "2.7.10"
  }
 },
 "nbformat": 4,
 "nbformat_minor": 0
}
