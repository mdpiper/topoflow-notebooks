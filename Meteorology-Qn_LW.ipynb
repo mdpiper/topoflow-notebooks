{
 "cells": [
  {
   "cell_type": "markdown",
   "metadata": {},
   "source": [
    "# Net longwave radiative flux in the Meteorology component"
   ]
  },
  {
   "cell_type": "markdown",
   "metadata": {},
   "source": [
    "**Goal:** In this example, check whether the `Meteorology` component produces output for `land_surface_net-longwave-radiation__energy_flux` (`Qn_LW` internally) when the model state is updated, given scalar inputs for temperature and emissivity."
   ]
  },
  {
   "cell_type": "markdown",
   "metadata": {},
   "source": [
    "Begin with an import and some magic:"
   ]
  },
  {
   "cell_type": "code",
   "execution_count": null,
   "metadata": {
    "collapsed": true
   },
   "outputs": [],
   "source": [
    "%matplotlib inline\n",
    "import numpy as np"
   ]
  },
  {
   "cell_type": "markdown",
   "metadata": {},
   "source": [
    "## BMI component"
   ]
  },
  {
   "cell_type": "markdown",
   "metadata": {},
   "source": [
    "Import the BMI `Meteorology` component, create an instance, and initialize the component:"
   ]
  },
  {
   "cell_type": "code",
   "execution_count": null,
   "metadata": {
    "collapsed": false
   },
   "outputs": [],
   "source": [
    "from topoflow.components.met_base import met_component\n",
    "m = met_component()\n",
    "m.initialize('./input/meteorology.cfg')"
   ]
  },
  {
   "cell_type": "markdown",
   "metadata": {},
   "source": [
    "There's no input value for `Qn_LW`; rather, it's calculated from temperature and emissivity values. It's initialized to an `np.zeros` array with the dimensions of the grid (line 951 of **met_base.py**):"
   ]
  },
  {
   "cell_type": "code",
   "execution_count": null,
   "metadata": {
    "collapsed": false
   },
   "outputs": [],
   "source": [
    "Q = m.get_value('land_surface_net-longwave-radiation__energy_flux')  # `Qn_LW` internally\n",
    "print type(Q)\n",
    "print Q.size\n",
    "print Q.shape\n",
    "Q"
   ]
  },
  {
   "cell_type": "markdown",
   "metadata": {},
   "source": [
    "Advance the model by one time step:"
   ]
  },
  {
   "cell_type": "code",
   "execution_count": null,
   "metadata": {
    "collapsed": false
   },
   "outputs": [],
   "source": [
    "m.update()\n",
    "print '\\nCurrent time: {} s'.format(m.get_current_time())"
   ]
  },
  {
   "cell_type": "markdown",
   "metadata": {},
   "source": [
    "Check the calculated value of `Qn_LW`:"
   ]
  },
  {
   "cell_type": "code",
   "execution_count": null,
   "metadata": {
    "collapsed": false
   },
   "outputs": [],
   "source": [
    "Q = m.get_value('land_surface_net-longwave-radiation__energy_flux')\n",
    "print type(Q)\n",
    "print Q.size\n",
    "print Q.shape\n",
    "Q"
   ]
  },
  {
   "cell_type": "markdown",
   "metadata": {},
   "source": [
    "The initial `Qn_LW` array has been converted into a scalar.\n",
    "\n",
    "The `Qn_LW` calculation starts on line 1631 of **met_base.py**:\n",
    "```python\n",
    "#--------------------------------\n",
    "# Compute Qn_LW for this time\n",
    "#--------------------------------\n",
    "T_air_K  = self.T_air  + self.C_to_K\n",
    "T_surf_K = self.T_surf + self.C_to_K\n",
    "LW_in    = self.em_air  * self.sigma * (T_air_K)** 4.0\n",
    "LW_out   = self.em_surf * self.sigma * (T_surf_K)** 4.0\n",
    "LW_out   = LW_out + ((1.0 - self.em_surf) * LW_in)\n",
    "\n",
    "self.Qn_LW = (LW_in - LW_out)   # [W m-2]\n",
    "```\n",
    "\n",
    "The temperature and emissivity values are set to scalars in the **cfg** file, so `Qn_LW` is also a scalar."
   ]
  },
  {
   "cell_type": "markdown",
   "metadata": {
    "collapsed": false
   },
   "source": [
    "**Result:** A scalar value of `Qn_LW` is calculated from scalar values of temperature and emissivity, which seems legit."
   ]
  },
  {
   "cell_type": "markdown",
   "metadata": {},
   "source": [
    "## Babel-wrapped component"
   ]
  },
  {
   "cell_type": "markdown",
   "metadata": {},
   "source": [
    "Import the Babel-wrapped `Meteorology` component, create an instance, and initialize the component:"
   ]
  },
  {
   "cell_type": "code",
   "execution_count": null,
   "metadata": {
    "collapsed": false
   },
   "outputs": [],
   "source": [
    "from cmt.components import Meteorology\n",
    "bm = Meteorology()\n",
    "bm.initialize('./input/meteorology.cfg')"
   ]
  },
  {
   "cell_type": "markdown",
   "metadata": {},
   "source": [
    "As above, `Qn_LW` is initialized to an `np.zeros` array with the dimensions of the grid. However, the Bocca implementation flattens the array:"
   ]
  },
  {
   "cell_type": "code",
   "execution_count": null,
   "metadata": {
    "collapsed": false
   },
   "outputs": [],
   "source": [
    "bQ = bm.get_value('land_surface_net-longwave-radiation__energy_flux')  # `Qn_LW` internally\n",
    "print type(bQ)\n",
    "print bQ.size\n",
    "print bQ.shape\n",
    "bQ"
   ]
  },
  {
   "cell_type": "markdown",
   "metadata": {},
   "source": [
    "Get the model time step (which has been broadcast over the grid):"
   ]
  },
  {
   "cell_type": "code",
   "execution_count": null,
   "metadata": {
    "collapsed": false
   },
   "outputs": [],
   "source": [
    "time_step = bm.get_value('model__time_step')  # `dt` internally\n",
    "time_step = time_step.max()\n",
    "print time_step"
   ]
  },
  {
   "cell_type": "markdown",
   "metadata": {},
   "source": [
    "Advance the model by one time step:"
   ]
  },
  {
   "cell_type": "code",
   "execution_count": null,
   "metadata": {
    "collapsed": false
   },
   "outputs": [],
   "source": [
    "bm.update(time_step)\n",
    "print '\\nCurrent time: {} s'.format(bm.get_current_time())"
   ]
  },
  {
   "cell_type": "markdown",
   "metadata": {},
   "source": [
    "Check the calculated value of `Qn_LW`:"
   ]
  },
  {
   "cell_type": "code",
   "execution_count": null,
   "metadata": {
    "collapsed": false
   },
   "outputs": [],
   "source": [
    "Q = bm.get_value('land_surface_net-longwave-radiation__energy_flux')\n",
    "print type(Q)\n",
    "print Q.size\n",
    "print Q.shape\n",
    "Q"
   ]
  },
  {
   "cell_type": "markdown",
   "metadata": {},
   "source": [
    "The calculated value of `Qn_LW` matches that of the BMI case above, but it has been broadcast over the grid. This is what we expect. "
   ]
  },
  {
   "cell_type": "markdown",
   "metadata": {},
   "source": [
    "Advance the model by a second time step:"
   ]
  },
  {
   "cell_type": "code",
   "execution_count": null,
   "metadata": {
    "collapsed": false
   },
   "outputs": [],
   "source": [
    "bm.update(2*time_step)\n",
    "print '\\nCurrent time: {} s'.format(bm.get_current_time())"
   ]
  },
  {
   "cell_type": "markdown",
   "metadata": {},
   "source": [
    "Again, check the calculated value of `Qn_LW`:"
   ]
  },
  {
   "cell_type": "code",
   "execution_count": null,
   "metadata": {
    "collapsed": false
   },
   "outputs": [],
   "source": [
    "Q = bm.get_value('land_surface_net-longwave-radiation__energy_flux')\n",
    "print type(Q)\n",
    "print Q.size\n",
    "print Q.shape\n",
    "Q"
   ]
  },
  {
   "cell_type": "markdown",
   "metadata": {},
   "source": [
    "There are no changes to the value of `Qn_LW`, which is expected, because there are no changes to the temperature or emissivity values."
   ]
  },
  {
   "cell_type": "markdown",
   "metadata": {
    "collapsed": false
   },
   "source": [
    "**Result:** An array of `Qn_LW` values, matching the shape of its associated grid, are calculated from scalar values of temperature and emissivity, which is what we expect!"
   ]
  }
 ],
 "metadata": {
  "kernelspec": {
   "display_name": "Python 2",
   "language": "python",
   "name": "python2"
  },
  "language_info": {
   "codemirror_mode": {
    "name": "ipython",
    "version": 2
   },
   "file_extension": ".py",
   "mimetype": "text/x-python",
   "name": "python",
   "nbconvert_exporter": "python",
   "pygments_lexer": "ipython2",
   "version": "2.7.10"
  }
 },
 "nbformat": 4,
 "nbformat_minor": 0
}
