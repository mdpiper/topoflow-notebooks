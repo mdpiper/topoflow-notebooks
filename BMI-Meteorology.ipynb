{
 "cells": [
  {
   "cell_type": "markdown",
   "metadata": {},
   "source": [
    "# Using the BMI-ed Meteorology component"
   ]
  },
  {
   "cell_type": "markdown",
   "metadata": {},
   "source": [
    "In this example, I want to give the `Meteorology` component a constant scalar precipitation value and see whether it produces output when the model state is updated."
   ]
  },
  {
   "cell_type": "markdown",
   "metadata": {},
   "source": [
    "Start with an import and some magic:"
   ]
  },
  {
   "cell_type": "code",
   "execution_count": null,
   "metadata": {
    "collapsed": true
   },
   "outputs": [],
   "source": [
    "%matplotlib inline\n",
    "import numpy as np"
   ]
  },
  {
   "cell_type": "markdown",
   "metadata": {},
   "source": [
    "Import the `Meteorology` component and create an instance:"
   ]
  },
  {
   "cell_type": "code",
   "execution_count": null,
   "metadata": {
    "collapsed": false
   },
   "outputs": [],
   "source": [
    "from topoflow.components.met_base import met_component"
   ]
  },
  {
   "cell_type": "code",
   "execution_count": null,
   "metadata": {
    "collapsed": false
   },
   "outputs": [],
   "source": [
    "m = met_component()"
   ]
  },
  {
   "cell_type": "markdown",
   "metadata": {},
   "source": [
    "Locate the **cfg** file:"
   ]
  },
  {
   "cell_type": "code",
   "execution_count": null,
   "metadata": {
    "collapsed": true
   },
   "outputs": [],
   "source": [
    "cfg_file = './input/meteorology.cfg'"
   ]
  },
  {
   "cell_type": "markdown",
   "metadata": {},
   "source": [
    "Initialize the component with the **cfg** file:"
   ]
  },
  {
   "cell_type": "code",
   "execution_count": null,
   "metadata": {
    "collapsed": false,
    "scrolled": true
   },
   "outputs": [],
   "source": [
    "m.initialize(cfg_file)"
   ]
  },
  {
   "cell_type": "markdown",
   "metadata": {},
   "source": [
    "Despite setting a value of 20 mm/hr for `P` in the **cfg** file, if I call `get_value` at this point, the model precip values are zeroed out:"
   ]
  },
  {
   "cell_type": "code",
   "execution_count": null,
   "metadata": {
    "collapsed": false
   },
   "outputs": [],
   "source": [
    "precip = m.get_value('atmosphere_water__precipitation_leq-volume_flux')  # `P` internally\n",
    "print type(precip)\n",
    "print precip.size\n",
    "precip"
   ]
  },
  {
   "cell_type": "markdown",
   "metadata": {},
   "source": [
    " Maybe this will change after the first update?"
   ]
  },
  {
   "cell_type": "markdown",
   "metadata": {},
   "source": [
    "Show the model start, current, and stop times:"
   ]
  },
  {
   "cell_type": "code",
   "execution_count": null,
   "metadata": {
    "collapsed": false
   },
   "outputs": [],
   "source": [
    "print m.get_start_time(), m.get_current_time(), m.get_end_time()"
   ]
  },
  {
   "cell_type": "markdown",
   "metadata": {},
   "source": [
    "Advance the model by one time step:"
   ]
  },
  {
   "cell_type": "code",
   "execution_count": null,
   "metadata": {
    "collapsed": false
   },
   "outputs": [],
   "source": [
    "m.update()"
   ]
  },
  {
   "cell_type": "code",
   "execution_count": null,
   "metadata": {
    "collapsed": false
   },
   "outputs": [],
   "source": [
    "print m.get_start_time(), m.get_current_time(), m.get_end_time()"
   ]
  },
  {
   "cell_type": "markdown",
   "metadata": {},
   "source": [
    "Note that it hasn't precipitated:"
   ]
  },
  {
   "cell_type": "code",
   "execution_count": null,
   "metadata": {
    "collapsed": false
   },
   "outputs": [],
   "source": [
    "precip = m.get_value('atmosphere_water__precipitation_leq-volume_flux')\n",
    "print precip"
   ]
  },
  {
   "cell_type": "markdown",
   "metadata": {},
   "source": [
    "But this might be expected, since the initial value retrieved by `get_value` was also zero."
   ]
  },
  {
   "cell_type": "markdown",
   "metadata": {},
   "source": [
    "Try manually setting the precip rate variable to an arbitrary non-zero value:"
   ]
  },
  {
   "cell_type": "code",
   "execution_count": null,
   "metadata": {
    "collapsed": false
   },
   "outputs": [],
   "source": [
    "new_value = np.array(15, dtype=np.float64)  # set_value doesn't convert to the TF type...\n",
    "m.set_value('atmosphere_water__precipitation_leq-volume_flux', new_value)\n",
    "precip = m.get_value('atmosphere_water__precipitation_leq-volume_flux')\n",
    "print precip"
   ]
  },
  {
   "cell_type": "markdown",
   "metadata": {
    "collapsed": false
   },
   "source": [
    "Note that I can't simply give `set_value` a new value of 15; I need to create a one-element Numpy array with a value of 15 to match what TopoFlow needs internally."
   ]
  },
  {
   "cell_type": "markdown",
   "metadata": {},
   "source": [
    "Advance the model by another time step:"
   ]
  },
  {
   "cell_type": "code",
   "execution_count": null,
   "metadata": {
    "collapsed": false
   },
   "outputs": [],
   "source": [
    "m.update()"
   ]
  },
  {
   "cell_type": "markdown",
   "metadata": {
    "collapsed": false
   },
   "source": [
    "Is precipitation being produced?"
   ]
  },
  {
   "cell_type": "code",
   "execution_count": null,
   "metadata": {
    "collapsed": false
   },
   "outputs": [],
   "source": [
    "precip = m.get_value('atmosphere_water__precipitation_leq-volume_flux')\n",
    "print precip"
   ]
  },
  {
   "cell_type": "markdown",
   "metadata": {
    "collapsed": false
   },
   "source": [
    "WTF.  \n",
    "Check the verbose output from the call to `update`:\n",
    "```\n",
    "Calling update_P_integral()...\n",
    "Calling update_P_max()...\n",
    "Calling update_P_rain()...\n",
    "   >> Rain is falling...\n",
    "Calling update_P_snow()...\n",
    "Calling update_bulk_richardson_number()...\n",
    "Calling update_bulk_aero_conductance()...\n",
    "Callilng update_sensible_heat_flux()...\n",
    "Calling update_saturation_vapor_pressure()...\n",
    "Calling update_saturation_vapor_pressure()...\n",
    "Calling update_vapor_pressure()...\n",
    "Calling update_dew_point()...\n",
    "Calling update_precipitable_water_content()...\n",
    "Calling update_vapor_pressure()...\n",
    "Calling update_latent_heat_flux()...\n",
    "Calling update_conduction_heat_flux()...\n",
    "Calling update_advection_heat_flux()...\n",
    "Calling update_julian_day()...\n",
    "Calling update_net_shortwave_radiation()...\n",
    "Calling update_em_air()...\n",
    "Calling update_net_longwave_radiation()...\n",
    "Calling update_net_energy_flux()...\n",
    "Calling read_input_files()...\n",
    "Reached end of scalar rainfall duration.\n",
    "  P set to 0 by read_input_files().\n",
    "Calling write_output_files()...\n",
    "```\n",
    "\n",
    "Apparently, rain is falling, but it's canceled at the end."
   ]
  },
  {
   "cell_type": "code",
   "execution_count": null,
   "metadata": {
    "collapsed": false
   },
   "outputs": [],
   "source": []
  }
 ],
 "metadata": {
  "kernelspec": {
   "display_name": "Python 2",
   "language": "python",
   "name": "python2"
  },
  "language_info": {
   "codemirror_mode": {
    "name": "ipython",
    "version": 2
   },
   "file_extension": ".py",
   "mimetype": "text/x-python",
   "name": "python",
   "nbconvert_exporter": "python",
   "pygments_lexer": "ipython2",
   "version": "2.7.10"
  }
 },
 "nbformat": 4,
 "nbformat_minor": 0
}
