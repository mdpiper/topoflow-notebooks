{
 "cells": [
  {
   "cell_type": "markdown",
   "metadata": {},
   "source": [
    "# Initial snow depth in SnowDegreeDay and SnowEnergyBalance"
   ]
  },
  {
   "cell_type": "markdown",
   "metadata": {},
   "source": [
    "**Problem:** Show that setting initial snow depth `h0_snow` has no effect in `SnowDegreeDay` and `SnowEnergyBalance`."
   ]
  },
  {
   "cell_type": "markdown",
   "metadata": {},
   "source": [
    "Import the Babel-wrapped `SnowEnergyBalance` and `SnowDegreeDay` components and create instances:"
   ]
  },
  {
   "cell_type": "code",
   "execution_count": null,
   "metadata": {
    "collapsed": false
   },
   "outputs": [],
   "source": [
    "from cmt.components import SnowEnergyBalance, SnowDegreeDay\n",
    "seb, sdd = SnowEnergyBalance(), SnowDegreeDay()"
   ]
  },
  {
   "cell_type": "markdown",
   "metadata": {},
   "source": [
    "Initialize the components with cfg files that, for simplicity, use the same time step and run duration:"
   ]
  },
  {
   "cell_type": "code",
   "execution_count": null,
   "metadata": {
    "collapsed": false
   },
   "outputs": [],
   "source": [
    "seb.initialize('./input/snow_energy_balance-1.cfg')\n",
    "sdd.initialize('./input/snow_degree_day-1.cfg')"
   ]
  },
  {
   "cell_type": "markdown",
   "metadata": {},
   "source": [
    "Store initial values of model time and maximum snowpack depth from the two components:"
   ]
  },
  {
   "cell_type": "code",
   "execution_count": null,
   "metadata": {
    "collapsed": false
   },
   "outputs": [],
   "source": [
    "time = [sdd.get_current_time()]\n",
    "sdd_snow_depth = [sdd.get_value('snowpack__depth').max()]\n",
    "seb_snow_depth = [seb.get_value('snowpack__depth').max()]\n",
    "\n",
    "print time, sdd_snow_depth, seb_snow_depth"
   ]
  },
  {
   "cell_type": "markdown",
   "metadata": {},
   "source": [
    "Advance both models to the end, saving the model time and maximum snowpack depth values at each step:"
   ]
  },
  {
   "cell_type": "code",
   "execution_count": null,
   "metadata": {
    "collapsed": false,
    "scrolled": true
   },
   "outputs": [],
   "source": [
    "while sdd.get_current_time() < sdd.get_end_time():\n",
    "    seb.update()\n",
    "    sdd.update()\n",
    "    time.append(sdd.get_current_time())\n",
    "    seb_snow_depth.append(seb.get_value('snowpack__depth').max())\n",
    "    sdd_snow_depth.append(sdd.get_value('snowpack__depth').max())"
   ]
  },
  {
   "cell_type": "markdown",
   "metadata": {},
   "source": [
    "Check the values:"
   ]
  },
  {
   "cell_type": "code",
   "execution_count": null,
   "metadata": {
    "collapsed": false
   },
   "outputs": [],
   "source": [
    "print time"
   ]
  },
  {
   "cell_type": "code",
   "execution_count": null,
   "metadata": {
    "collapsed": false
   },
   "outputs": [],
   "source": [
    "print seb_snow_depth"
   ]
  },
  {
   "cell_type": "code",
   "execution_count": null,
   "metadata": {
    "collapsed": false
   },
   "outputs": [],
   "source": [
    "print sdd_snow_depth"
   ]
  },
  {
   "cell_type": "markdown",
   "metadata": {},
   "source": [
    "**Here's the key point:** the snow depth in each model after the first update is set by the equation on line 506 of **snow_base.py**. After the first update, the snow depth evolves according to the physics of the component. See:"
   ]
  },
  {
   "cell_type": "code",
   "execution_count": null,
   "metadata": {
    "collapsed": false
   },
   "outputs": [],
   "source": [
    "rho_H2O = 1000.0\n",
    "\n",
    "h_swe = sdd.get_value('snowpack__liquid-equivalent_depth').max()\n",
    "rho_snow = sdd.get_value('snowpack__z_mean_of_mass-per-volume_density').max()\n",
    "print h_swe * (rho_H2O / rho_snow)  # sdd\n",
    "\n",
    "h_swe = seb.get_value('snowpack__liquid-equivalent_depth').max()\n",
    "rho_snow = seb.get_value('snowpack__z_mean_of_mass-per-volume_density').max()\n",
    "print h_swe * (rho_H2O / rho_snow)  # seb"
   ]
  },
  {
   "cell_type": "markdown",
   "metadata": {},
   "source": [
    "Plot the snow depth time series output from each component: "
   ]
  },
  {
   "cell_type": "code",
   "execution_count": null,
   "metadata": {
    "collapsed": true
   },
   "outputs": [],
   "source": [
    "%matplotlib inline\n",
    "import matplotlib.pyplot as plt"
   ]
  },
  {
   "cell_type": "code",
   "execution_count": null,
   "metadata": {
    "collapsed": false
   },
   "outputs": [],
   "source": [
    "fig = plt.figure()\n",
    "ax = fig.add_subplot(1, 1, 1)\n",
    "ax.plot(time, seb_snow_depth, 'r', time, sdd_snow_depth, 'b')\n",
    "\n",
    "ax.set_xlabel('Time (s)')\n",
    "ax.set_ylabel('Snowpack depth (m)')\n",
    "ax.set_title('Snowpack depth vs. time')\n",
    "\n",
    "ax.set_xlim((time[0], time[-1]))\n",
    "ax.set_ylim((0.49, 0.51))"
   ]
  },
  {
   "cell_type": "markdown",
   "metadata": {},
   "source": [
    "Finalize the components:"
   ]
  },
  {
   "cell_type": "code",
   "execution_count": null,
   "metadata": {
    "collapsed": false
   },
   "outputs": [],
   "source": [
    "seb.finalize(), sdd.finalize()"
   ]
  },
  {
   "cell_type": "markdown",
   "metadata": {
    "collapsed": false
   },
   "source": [
    "**Result:** Setting the initial snow depth `h0_snow` in the TopoFlow snow components has no effect. The value is overwritten in the first time step by a value calculated from SWE and the densities of snow and water."
   ]
  }
 ],
 "metadata": {
  "kernelspec": {
   "display_name": "Python 2",
   "language": "python",
   "name": "python2"
  },
  "language_info": {
   "codemirror_mode": {
    "name": "ipython",
    "version": 2
   },
   "file_extension": ".py",
   "mimetype": "text/x-python",
   "name": "python",
   "nbconvert_exporter": "python",
   "pygments_lexer": "ipython2",
   "version": "2.7.10"
  }
 },
 "nbformat": 4,
 "nbformat_minor": 0
}
