{
 "cells": [
  {
   "cell_type": "markdown",
   "metadata": {},
   "source": [
    "# SnowDegreeDay-Meteorology coupling"
   ]
  },
  {
   "cell_type": "markdown",
   "metadata": {},
   "source": [
    "**Goal:** Try to successfully run a coupled `SnowDegreeDay-Meteorology` simulation, with `SnowDegreeDay` as the driver."
   ]
  },
  {
   "cell_type": "markdown",
   "metadata": {},
   "source": [
    "Import the Babel-wrapped `Meteorology` and `SnowDegreeDay` components and create instances:"
   ]
  },
  {
   "cell_type": "code",
   "execution_count": null,
   "metadata": {
    "collapsed": false
   },
   "outputs": [],
   "source": [
    "from cmt.components import Meteorology, SnowDegreeDay\n",
    "met, sno = Meteorology(), SnowDegreeDay()"
   ]
  },
  {
   "cell_type": "markdown",
   "metadata": {},
   "source": [
    "Initialize the components with cfg files that, for simplicity, use the same time step and run duration:"
   ]
  },
  {
   "cell_type": "code",
   "execution_count": null,
   "metadata": {
    "collapsed": false
   },
   "outputs": [],
   "source": [
    "met.initialize('./input/meteorology-2.cfg')\n",
    "sno.initialize('./input/snow_degree_day-1.cfg')"
   ]
  },
  {
   "cell_type": "markdown",
   "metadata": {},
   "source": [
    "Store initial values of time, snow depth, and air temperature:"
   ]
  },
  {
   "cell_type": "code",
   "execution_count": null,
   "metadata": {
    "collapsed": true
   },
   "outputs": [],
   "source": [
    "time = [sno.get_current_time()]\n",
    "snow_depth = [sno.get_value('snowpack__depth').max()]\n",
    "air_temp = [met.get_value('atmosphere_bottom_air__temperature').max()]"
   ]
  },
  {
   "cell_type": "markdown",
   "metadata": {},
   "source": [
    "Run the coupled models to completion. In each time step, perform the following actions:\n",
    "\n",
    "1. Get variables from `SnowDegreeDay`; set into `Meteorology`\n",
    "1. Advance `Meteorology`\n",
    "1. Get variables from `Meteorology`; set into `SnowDegreeDay`\n",
    "1. Advance `SnowDegreeDay`"
   ]
  },
  {
   "cell_type": "code",
   "execution_count": null,
   "metadata": {
    "collapsed": false
   },
   "outputs": [],
   "source": [
    "while sno.get_current_time() < sno.get_end_time():\n",
    "    rho_snow = sno.get_value('snowpack__z_mean_of_mass-per-volume_density')\n",
    "    h_snow = sno.get_value('snowpack__depth')\n",
    "    h_swe = sno.get_value('snowpack__liquid-equivalent_depth')\n",
    "    SM = sno.get_value('snowpack__melt_volume_flux')\n",
    "    met.set_value('snowpack__z_mean_of_mass-per-volume_density', rho_snow)\n",
    "    met.set_value('snowpack__depth', h_snow)\n",
    "    met.set_value('snowpack__liquid-equivalent_depth', h_swe)\n",
    "    met.set_value('snowpack__melt_volume_flux', SM)\n",
    "    \n",
    "    met.update()\n",
    "    \n",
    "    T_air = met.get_value('atmosphere_bottom_air__temperature')\n",
    "    P_snow = met.get_value('atmosphere_water__snowfall_leq-volume_flux')\n",
    "    T_surf = met.get_value('land_surface__temperature')\n",
    "    rho_H2O = met.get_value('water-liquid__mass-per-volume_density')\n",
    "    sno.set_value('atmosphere_bottom_air__temperature', T_air)\n",
    "    sno.set_value('atmosphere_water__snowfall_leq-volume_flux', P_snow)\n",
    "    sno.set_value('land_surface__temperature', T_surf)\n",
    "    sno.set_value('water-liquid__mass-per-volume_density', rho_H2O)\n",
    "\n",
    "    sno.update()\n",
    "    \n",
    "    time.append(met.get_current_time())\n",
    "    snow_depth.append(sno.get_value('snowpack__depth').max())\n",
    "    air_temp.append(met.get_value('atmosphere_bottom_air__temperature').max())"
   ]
  },
  {
   "cell_type": "code",
   "execution_count": null,
   "metadata": {
    "collapsed": false
   },
   "outputs": [],
   "source": [
    "print time"
   ]
  },
  {
   "cell_type": "code",
   "execution_count": null,
   "metadata": {
    "collapsed": false
   },
   "outputs": [],
   "source": [
    "print snow_depth"
   ]
  },
  {
   "cell_type": "code",
   "execution_count": null,
   "metadata": {
    "collapsed": false
   },
   "outputs": [],
   "source": [
    "print air_temp"
   ]
  },
  {
   "cell_type": "markdown",
   "metadata": {},
   "source": [
    "Finalize the components:"
   ]
  },
  {
   "cell_type": "code",
   "execution_count": null,
   "metadata": {
    "collapsed": false
   },
   "outputs": [],
   "source": [
    "met.finalize(), sno.finalize()"
   ]
  },
  {
   "cell_type": "markdown",
   "metadata": {},
   "source": [
    "**Result:** Works!"
   ]
  }
 ],
 "metadata": {
  "kernelspec": {
   "display_name": "Python 2",
   "language": "python",
   "name": "python2"
  },
  "language_info": {
   "codemirror_mode": {
    "name": "ipython",
    "version": 2
   },
   "file_extension": ".py",
   "mimetype": "text/x-python",
   "name": "python",
   "nbconvert_exporter": "python",
   "pygments_lexer": "ipython2",
   "version": "2.7.10"
  }
 },
 "nbformat": 4,
 "nbformat_minor": 0
}
