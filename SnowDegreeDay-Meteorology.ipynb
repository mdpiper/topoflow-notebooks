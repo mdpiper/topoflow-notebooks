{
 "cells": [
  {
   "cell_type": "markdown",
   "metadata": {},
   "source": [
    "# SnowDegreeDay-Meteorology coupling"
   ]
  },
  {
   "cell_type": "markdown",
   "metadata": {},
   "source": [
    "**Goal:** Try to successfully run a coupled `SnowDegreeDay-Meteorology` simulation, with `SnowDegreeDay` as the driver."
   ]
  },
  {
   "cell_type": "markdown",
   "metadata": {},
   "source": [
    "Import the Babel-wrapped `Meteorology` and `SnowDegreeDay` components and create instances:"
   ]
  },
  {
   "cell_type": "code",
   "execution_count": null,
   "metadata": {
    "collapsed": false
   },
   "outputs": [],
   "source": [
    "from cmt.components import Meteorology, SnowDegreeDay\n",
    "met, sno = Meteorology(), SnowDegreeDay()"
   ]
  },
  {
   "cell_type": "markdown",
   "metadata": {},
   "source": [
    "Initialize the components with cfg files that, for simplicity, use the same time step and run duration:"
   ]
  },
  {
   "cell_type": "code",
   "execution_count": null,
   "metadata": {
    "collapsed": false
   },
   "outputs": [],
   "source": [
    "met.initialize('./input/meteorology-2.cfg')\n",
    "sno.initialize('./input/snow_degree_day-1.cfg')"
   ]
  },
  {
   "cell_type": "markdown",
   "metadata": {},
   "source": [
    "Get the model time step (which has been broadcast over the grid):"
   ]
  },
  {
   "cell_type": "code",
   "execution_count": null,
   "metadata": {
    "collapsed": false
   },
   "outputs": [],
   "source": [
    "time_step = sno.get_value('model__time_step').max()\n",
    "print 'Time step = {} s'.format(time_step)"
   ]
  },
  {
   "cell_type": "markdown",
   "metadata": {},
   "source": [
    "Store initial values of time and snow melt:"
   ]
  },
  {
   "cell_type": "code",
   "execution_count": null,
   "metadata": {
    "collapsed": true
   },
   "outputs": [],
   "source": [
    "time = [sno.get_current_time()]\n",
    "snowmelt = [sno.get_value('snowpack__melt_volume_flux').max()]"
   ]
  },
  {
   "cell_type": "markdown",
   "metadata": {},
   "source": [
    "Run the coupled models to completion. In each time step, perform the following actions:\n",
    "\n",
    "1. Advance `Meteorology`\n",
    "1. Get variables from `Meteorology`\n",
    "1. Pass variables to `SnowDegreeDay`\n",
    "1. Advance `SnowDegreeDay`"
   ]
  },
  {
   "cell_type": "code",
   "execution_count": null,
   "metadata": {
    "collapsed": false
   },
   "outputs": [],
   "source": [
    "until = time_step\n",
    "while sno.get_current_time() < met.get_end_time():\n",
    "    met.update(until)\n",
    "    T_air = met.get_value('atmosphere_bottom_air__temperature')  # the only var needed by SnowDegreeDay\n",
    "    \n",
    "    sno.set_value('atmosphere_bottom_air__temperature', T_air)  # T_air.max() works\n",
    "    sno.update(until)\n",
    "    \n",
    "    time.append(met.get_current_time())\n",
    "    snowmelt.append(sno.get_value('snowpack__melt_volume_flux').max())\n",
    "    \n",
    "    until += time_step"
   ]
  },
  {
   "cell_type": "markdown",
   "metadata": {},
   "source": [
    "**Error**  \n",
    "Here's the relevant part of the stack trace:\n",
    "\n",
    "```python\n",
    "File \"/path/to/topoflow/components/snow_base.py\", line 481, in update_swe\n",
    "    self.h_swe -= dh2_swe\n",
    "ValueError: non-broadcastable output operand with shape () doesn't match the broadcast shape (1276,)\n",
    "```\n",
    "\n",
    "**Explanation**  \n",
    "The parameter `T_air` is initialized as a scalar in Meteorology.\n",
    "Therefore, in line 365 of snow_base.initialize_computed_vars(), `h_swe` is also initialized as a scalar.\n",
    "However, when stepping through the models above, the Babelized get_value() method returns an array for `T_air`.\n",
    "`SM` is calculated from `T_air` in line 302 of snow_degree_day.update_meltrate(), so it also becomes an array.\n",
    "The error is thrown when `dh2_swe`, derived from `SM`, and therefore an array, is subtracted from `h_swe`, a scalar.\n",
    "\n",
    "The problem occurs because the Babelized component automatically broadcasts a scalar parameter value over the entire grid. I think this is desirable behavior, but it doesn't work well with the way TopoFlow is set up."
   ]
  },
  {
   "cell_type": "code",
   "execution_count": null,
   "metadata": {
    "collapsed": false
   },
   "outputs": [],
   "source": [
    "print time"
   ]
  },
  {
   "cell_type": "code",
   "execution_count": null,
   "metadata": {
    "collapsed": false
   },
   "outputs": [],
   "source": [
    "print snowmelt"
   ]
  },
  {
   "cell_type": "markdown",
   "metadata": {},
   "source": [
    "Finalize the components:"
   ]
  },
  {
   "cell_type": "code",
   "execution_count": null,
   "metadata": {
    "collapsed": false
   },
   "outputs": [],
   "source": [
    "met.finalize(), sno.finalize()"
   ]
  },
  {
   "cell_type": "markdown",
   "metadata": {},
   "source": [
    "**Result:** Currently failing, unless I force `T_air` to be a scalar after getting it from the Meteorology component."
   ]
  }
 ],
 "metadata": {
  "kernelspec": {
   "display_name": "Python 2",
   "language": "python",
   "name": "python2"
  },
  "language_info": {
   "codemirror_mode": {
    "name": "ipython",
    "version": 2
   },
   "file_extension": ".py",
   "mimetype": "text/x-python",
   "name": "python",
   "nbconvert_exporter": "python",
   "pygments_lexer": "ipython2",
   "version": "2.7.10"
  }
 },
 "nbformat": 4,
 "nbformat_minor": 0
}
