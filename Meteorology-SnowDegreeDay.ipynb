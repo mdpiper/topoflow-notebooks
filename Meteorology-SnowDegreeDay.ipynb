{
 "cells": [
  {
   "cell_type": "markdown",
   "metadata": {},
   "source": [
    "# Meteorology-SnowDegreeDay coupling"
   ]
  },
  {
   "cell_type": "markdown",
   "metadata": {},
   "source": [
    "**Goal:** Determine why a coupled `Meteorology-SnowDegreeDay` simulation fails, when each component runs to completion in stand-alone mode."
   ]
  },
  {
   "cell_type": "markdown",
   "metadata": {},
   "source": [
    "Start with an import and some magic:"
   ]
  },
  {
   "cell_type": "code",
   "execution_count": null,
   "metadata": {
    "collapsed": true
   },
   "outputs": [],
   "source": [
    "%matplotlib inline\n",
    "import numpy as np"
   ]
  },
  {
   "cell_type": "markdown",
   "metadata": {},
   "source": [
    "Import the Babel-wrapped `Meteorology` and `SnowDegreeDay` components and create instances:"
   ]
  },
  {
   "cell_type": "code",
   "execution_count": null,
   "metadata": {
    "collapsed": false
   },
   "outputs": [],
   "source": [
    "from cmt.components import Meteorology, SnowDegreeDay\n",
    "met, sno = Meteorology(), SnowDegreeDay()"
   ]
  },
  {
   "cell_type": "markdown",
   "metadata": {},
   "source": [
    "## Demonstrate that the models run independently"
   ]
  },
  {
   "cell_type": "markdown",
   "metadata": {},
   "source": [
    "Initialize the components with cfg files that, for simplicity, use the same time step and run duration:"
   ]
  },
  {
   "cell_type": "code",
   "execution_count": null,
   "metadata": {
    "collapsed": false
   },
   "outputs": [],
   "source": [
    "met.initialize('./input/meteorology-2.cfg')\n",
    "sno.initialize('./input/snow_degree_day-1.cfg')"
   ]
  },
  {
   "cell_type": "markdown",
   "metadata": {},
   "source": [
    "Get the model time step (which has been broadcast over the grid):"
   ]
  },
  {
   "cell_type": "code",
   "execution_count": null,
   "metadata": {
    "collapsed": false
   },
   "outputs": [],
   "source": [
    "time_step = met.get_value('model__time_step')\n",
    "time_step = time_step.max()\n",
    "print 'Time step = {} s'.format(time_step)"
   ]
  },
  {
   "cell_type": "markdown",
   "metadata": {},
   "source": [
    "Advance both models to the end, saving the model time, precipitation flux, and snowmelt flux values at each step:"
   ]
  },
  {
   "cell_type": "code",
   "execution_count": null,
   "metadata": {
    "collapsed": false
   },
   "outputs": [],
   "source": [
    "time, precip, melt = [], [], []\n",
    "until = time_step\n",
    "while met.get_current_time() < met.get_end_time():\n",
    "    met.update(until)\n",
    "    time.append(met.get_current_time())\n",
    "    precip.append(met.get_value('atmosphere_water__precipitation_leq-volume_flux'))\n",
    "    melt.append(sno.get_value('snowpack__melt_volume_flux'))\n",
    "    until += time_step"
   ]
  },
  {
   "cell_type": "markdown",
   "metadata": {},
   "source": [
    "Check the values:"
   ]
  },
  {
   "cell_type": "code",
   "execution_count": null,
   "metadata": {
    "collapsed": false
   },
   "outputs": [],
   "source": [
    "time"
   ]
  },
  {
   "cell_type": "code",
   "execution_count": null,
   "metadata": {
    "collapsed": false
   },
   "outputs": [],
   "source": [
    "precip"
   ]
  },
  {
   "cell_type": "code",
   "execution_count": null,
   "metadata": {
    "collapsed": false
   },
   "outputs": [],
   "source": [
    "melt"
   ]
  },
  {
   "cell_type": "markdown",
   "metadata": {},
   "source": [
    "Finalize the components:"
   ]
  },
  {
   "cell_type": "code",
   "execution_count": null,
   "metadata": {
    "collapsed": false
   },
   "outputs": [],
   "source": [
    "met.finalize(), sno.finalize()"
   ]
  },
  {
   "cell_type": "markdown",
   "metadata": {
    "collapsed": false
   },
   "source": [
    "**Result:** The models run independently."
   ]
  },
  {
   "cell_type": "markdown",
   "metadata": {},
   "source": [
    "## Couple the models"
   ]
  },
  {
   "cell_type": "markdown",
   "metadata": {},
   "source": [
    "Initialize the components with cfg files that, for simplicity, use the same time step and run duration:"
   ]
  },
  {
   "cell_type": "code",
   "execution_count": null,
   "metadata": {
    "collapsed": false
   },
   "outputs": [],
   "source": [
    "met.initialize('./input/meteorology-2.cfg')\n",
    "sno.initialize('./input/snow_degree_day-1.cfg')"
   ]
  },
  {
   "cell_type": "markdown",
   "metadata": {},
   "source": [
    "Get the model time step (which has been broadcast over the grid):"
   ]
  },
  {
   "cell_type": "code",
   "execution_count": null,
   "metadata": {
    "collapsed": false
   },
   "outputs": [],
   "source": [
    "time_step = met.get_value('model__time_step')\n",
    "time_step = time_step.max()\n",
    "print 'Time step = {} s'.format(time_step)"
   ]
  },
  {
   "cell_type": "markdown",
   "metadata": {},
   "source": [
    "Advance `SnowDegreeDay` by one time step, getting values to pass to `Meteorology`:"
   ]
  },
  {
   "cell_type": "code",
   "execution_count": null,
   "metadata": {
    "collapsed": false
   },
   "outputs": [],
   "source": [
    "sno.update(time_step)\n",
    "rho_snow = sno.get_value('snowpack__z_mean_of_mass-per-volume_density')\n",
    "h_snow = sno.get_value('snowpack__depth')\n",
    "h_swe = sno.get_value('snowpack__liquid-equivalent_depth')\n",
    "SM = sno.get_value('snowpack__melt_volume_flux')"
   ]
  },
  {
   "cell_type": "markdown",
   "metadata": {},
   "source": [
    "Pass variables from `SnowDegreeDay` into `Meteorology`, then advance `Meteorology`:"
   ]
  },
  {
   "cell_type": "code",
   "execution_count": null,
   "metadata": {
    "collapsed": false
   },
   "outputs": [],
   "source": [
    "met.set_value('snowpack__z_mean_of_mass-per-volume_density', rho_snow)\n",
    "met.set_value('snowpack__depth', h_snow)  # this is the only variable that fails\n",
    "met.set_value('snowpack__liquid-equivalent_depth', h_swe)\n",
    "met.set_value('snowpack__melt_volume_flux', SM)\n",
    "met.update(time_step)"
   ]
  },
  {
   "cell_type": "markdown",
   "metadata": {},
   "source": [
    "Note the differing shapes of the variables in the statement that fails:\n",
    "\n",
    "```\n",
    "Qn_SW.shape = (44, 29)\n",
    "Qn_LW.shape = ()\n",
    "Qh.shape = (1276,)\n",
    "Qe.shape = (1276,)\n",
    "Qa.shape = ()\n",
    "Qc.shape = ()\n",
    "```"
   ]
  },
  {
   "cell_type": "markdown",
   "metadata": {},
   "source": [
    "Finalize the components:"
   ]
  },
  {
   "cell_type": "code",
   "execution_count": null,
   "metadata": {
    "collapsed": false
   },
   "outputs": [],
   "source": [
    "met.finalize(), sno.finalize()"
   ]
  }
 ],
 "metadata": {
  "kernelspec": {
   "display_name": "Python 2",
   "language": "python",
   "name": "python2"
  },
  "language_info": {
   "codemirror_mode": {
    "name": "ipython",
    "version": 2
   },
   "file_extension": ".py",
   "mimetype": "text/x-python",
   "name": "python",
   "nbconvert_exporter": "python",
   "pygments_lexer": "ipython2",
   "version": "2.7.10"
  }
 },
 "nbformat": 4,
 "nbformat_minor": 0
}
