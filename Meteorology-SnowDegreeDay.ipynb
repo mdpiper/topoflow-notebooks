{
 "cells": [
  {
   "cell_type": "markdown",
   "metadata": {},
   "source": [
    "# Meteorology-SnowDegreeDay coupling"
   ]
  },
  {
   "cell_type": "markdown",
   "metadata": {},
   "source": [
    "**Goal:** Try to successfully run a coupled `Meteorology-SnowDegreeDay` simulation. Each component runs to completion in stand-alone mode."
   ]
  },
  {
   "cell_type": "markdown",
   "metadata": {},
   "source": [
    "Import the Babel-wrapped `Meteorology` and `SnowDegreeDay` components and create instances:"
   ]
  },
  {
   "cell_type": "code",
   "execution_count": null,
   "metadata": {
    "collapsed": false
   },
   "outputs": [],
   "source": [
    "from cmt.components import Meteorology, SnowDegreeDay\n",
    "met, sno = Meteorology(), SnowDegreeDay()"
   ]
  },
  {
   "cell_type": "markdown",
   "metadata": {},
   "source": [
    "## Demonstrate that the models run independently"
   ]
  },
  {
   "cell_type": "markdown",
   "metadata": {},
   "source": [
    "Initialize the components with cfg files that, for simplicity, use the same time step and run duration:"
   ]
  },
  {
   "cell_type": "code",
   "execution_count": null,
   "metadata": {
    "collapsed": false
   },
   "outputs": [],
   "source": [
    "met.initialize('./input/meteorology-2.cfg')\n",
    "sno.initialize('./input/snow_degree_day-1.cfg')"
   ]
  },
  {
   "cell_type": "markdown",
   "metadata": {},
   "source": [
    "Get the model time step (which has been broadcast over the grid):"
   ]
  },
  {
   "cell_type": "code",
   "execution_count": null,
   "metadata": {
    "collapsed": false
   },
   "outputs": [],
   "source": [
    "time_step = met.get_value('model__time_step').max()\n",
    "print 'Time step = {} s'.format(time_step)"
   ]
  },
  {
   "cell_type": "markdown",
   "metadata": {},
   "source": [
    "Advance both models to the end, saving the model time, precipitation flux, and snowmelt flux values at each step:"
   ]
  },
  {
   "cell_type": "code",
   "execution_count": null,
   "metadata": {
    "collapsed": false
   },
   "outputs": [],
   "source": [
    "time, precip, melt = [], [], []\n",
    "until = time_step\n",
    "while met.get_current_time() < met.get_end_time():\n",
    "    met.update(until)\n",
    "    time.append(met.get_current_time())\n",
    "    precip.append(met.get_value('atmosphere_water__precipitation_leq-volume_flux'))\n",
    "    melt.append(sno.get_value('snowpack__melt_volume_flux'))\n",
    "    until += time_step"
   ]
  },
  {
   "cell_type": "markdown",
   "metadata": {},
   "source": [
    "Check the values:"
   ]
  },
  {
   "cell_type": "code",
   "execution_count": null,
   "metadata": {
    "collapsed": false
   },
   "outputs": [],
   "source": [
    "time"
   ]
  },
  {
   "cell_type": "code",
   "execution_count": null,
   "metadata": {
    "collapsed": false
   },
   "outputs": [],
   "source": [
    "precip"
   ]
  },
  {
   "cell_type": "code",
   "execution_count": null,
   "metadata": {
    "collapsed": false
   },
   "outputs": [],
   "source": [
    "melt"
   ]
  },
  {
   "cell_type": "markdown",
   "metadata": {},
   "source": [
    "Finalize the components:"
   ]
  },
  {
   "cell_type": "code",
   "execution_count": null,
   "metadata": {
    "collapsed": false
   },
   "outputs": [],
   "source": [
    "met.finalize(), sno.finalize()"
   ]
  },
  {
   "cell_type": "markdown",
   "metadata": {
    "collapsed": false
   },
   "source": [
    "**Result:** The models run independently."
   ]
  },
  {
   "cell_type": "markdown",
   "metadata": {},
   "source": [
    "## Couple the models"
   ]
  },
  {
   "cell_type": "markdown",
   "metadata": {},
   "source": [
    "Initialize the components with cfg files that, for simplicity, use the same time step and run duration:"
   ]
  },
  {
   "cell_type": "code",
   "execution_count": null,
   "metadata": {
    "collapsed": false
   },
   "outputs": [],
   "source": [
    "met.initialize('./input/meteorology-2.cfg')\n",
    "sno.initialize('./input/snow_degree_day-1.cfg')"
   ]
  },
  {
   "cell_type": "markdown",
   "metadata": {},
   "source": [
    "Get the model time step (which has been broadcast over the grid):"
   ]
  },
  {
   "cell_type": "code",
   "execution_count": null,
   "metadata": {
    "collapsed": false
   },
   "outputs": [],
   "source": [
    "time_step = met.get_value('model__time_step').max()\n",
    "print 'Time step = {} s'.format(time_step)"
   ]
  },
  {
   "cell_type": "markdown",
   "metadata": {},
   "source": [
    "Get the shape of the grid. See **Note** below."
   ]
  },
  {
   "cell_type": "code",
   "execution_count": null,
   "metadata": {
    "collapsed": false
   },
   "outputs": [],
   "source": [
    "grid_id = met.get_var_grid('snowpack__melt_volume_flux')\n",
    "shape = met.get_grid_shape(grid_id)\n",
    "print 'Grid shape = {}'.format(shape)"
   ]
  },
  {
   "cell_type": "markdown",
   "metadata": {},
   "source": [
    "Store initial values of time and net longwave radiative flux:"
   ]
  },
  {
   "cell_type": "code",
   "execution_count": null,
   "metadata": {
    "collapsed": true
   },
   "outputs": [],
   "source": [
    "time = [met.get_current_time()]\n",
    "Qn_LW = [met.get_value('land_surface_net-longwave-radiation__energy_flux').max()]"
   ]
  },
  {
   "cell_type": "markdown",
   "metadata": {},
   "source": [
    "Run the coupled models to completion. In each time step, perform the following actions:\n",
    "\n",
    "1. Advance `SnowDegreeDay`\n",
    "1. Get variables from `SnowDegreeDay`\n",
    "1. Pass variables to `Meteorology`\n",
    "1. Advance `Meteorology`"
   ]
  },
  {
   "cell_type": "code",
   "execution_count": null,
   "metadata": {
    "collapsed": false
   },
   "outputs": [],
   "source": [
    "until = time_step\n",
    "while met.get_current_time() < met.get_end_time():\n",
    "    sno.update(until)\n",
    "    rho_snow = sno.get_value('snowpack__z_mean_of_mass-per-volume_density')\n",
    "    h_snow = sno.get_value('snowpack__depth')\n",
    "    h_swe = sno.get_value('snowpack__liquid-equivalent_depth')\n",
    "    SM = sno.get_value('snowpack__melt_volume_flux')\n",
    "\n",
    "    met.set_value('snowpack__z_mean_of_mass-per-volume_density', rho_snow.reshape(shape))\n",
    "    met.set_value('snowpack__depth', h_snow.reshape(shape))\n",
    "    met.set_value('snowpack__liquid-equivalent_depth', h_swe.reshape(shape))\n",
    "    met.set_value('snowpack__melt_volume_flux', SM.reshape(shape))\n",
    "    met.update(until)\n",
    "    \n",
    "    time.append(met.get_current_time())\n",
    "    Qn_LW.append(met.get_value('land_surface_net-longwave-radiation__energy_flux').max())\n",
    "    \n",
    "    until += time_step"
   ]
  },
  {
   "cell_type": "code",
   "execution_count": null,
   "metadata": {
    "collapsed": false
   },
   "outputs": [],
   "source": [
    "print time"
   ]
  },
  {
   "cell_type": "code",
   "execution_count": null,
   "metadata": {
    "collapsed": false
   },
   "outputs": [],
   "source": [
    "print Qn_LW"
   ]
  },
  {
   "cell_type": "markdown",
   "metadata": {},
   "source": [
    "Finalize the components:"
   ]
  },
  {
   "cell_type": "code",
   "execution_count": null,
   "metadata": {
    "collapsed": false
   },
   "outputs": [],
   "source": [
    "met.finalize(), sno.finalize()"
   ]
  },
  {
   "cell_type": "markdown",
   "metadata": {},
   "source": [
    "**Note:** The Meteorology component was able to advance because I explicitly reshaped the variables `rho_snow`, `h_snow`, `h_swe`, and `SM` (which had been flattened) before passing them into `set_value`."
   ]
  },
  {
   "cell_type": "markdown",
   "metadata": {},
   "source": [
    "**Result:** Indeterminate. It depends whether my fix is robust."
   ]
  }
 ],
 "metadata": {
  "kernelspec": {
   "display_name": "Python 2",
   "language": "python",
   "name": "python2"
  },
  "language_info": {
   "codemirror_mode": {
    "name": "ipython",
    "version": 2
   },
   "file_extension": ".py",
   "mimetype": "text/x-python",
   "name": "python",
   "nbconvert_exporter": "python",
   "pygments_lexer": "ipython2",
   "version": "2.7.10"
  }
 },
 "nbformat": 4,
 "nbformat_minor": 0
}
