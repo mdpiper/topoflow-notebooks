{
 "cells": [
  {
   "cell_type": "markdown",
   "metadata": {},
   "source": [
    "# Meteorology-SnowDegreeDay coupling: Grid ptypes"
   ]
  },
  {
   "cell_type": "markdown",
   "metadata": {},
   "source": [
    "**Goal:** Try to successfully run a coupled `Meteorology-SnowDegreeDay` simulation, with `Meteorology` as the driver, and with Grid inputs for `SnowDegreeDay`."
   ]
  },
  {
   "cell_type": "markdown",
   "metadata": {},
   "source": [
    "Import the Babel-wrapped `Meteorology` and `SnowDegreeDay` components and create instances:"
   ]
  },
  {
   "cell_type": "code",
   "execution_count": 1,
   "metadata": {
    "collapsed": false
   },
   "outputs": [
    {
     "name": "stdout",
     "output_type": "stream",
     "text": [
      "Importing TopoFlow packages:\n",
      "   topoflow.utils\n",
      "   topoflow.utils.tests\n",
      "   topoflow.components\n",
      "   topoflow.components.tests\n",
      "   topoflow.framework\n",
      "   topoflow.framework.tests\n",
      "   topoflow.gui (unfinished)\n",
      " \n",
      " \n",
      "Paths for this package:\n",
      "framework_dir = /home/csdms/wmt/topoflow.1/opt/topoflow/topoflow/framework/\n",
      "parent_dir    = /home/csdms/wmt/topoflow.1/opt/topoflow/topoflow/\n",
      "examples_dir  = /home/csdms/wmt/topoflow.1/opt/topoflow/topoflow/examples/\n",
      "__file__      = /home/csdms/wmt/topoflow.1/opt/topoflow/topoflow/framework/emeli.pyc\n",
      "__name__      = topoflow.framework.emeli\n",
      " \n"
     ]
    }
   ],
   "source": [
    "from cmt.components import Meteorology, SnowDegreeDay\n",
    "met, sno = Meteorology(), SnowDegreeDay()"
   ]
  },
  {
   "cell_type": "markdown",
   "metadata": {},
   "source": [
    "Initialize the components with cfg files that, for simplicity, use the same time step and run duration:"
   ]
  },
  {
   "cell_type": "code",
   "execution_count": 2,
   "metadata": {
    "collapsed": false
   },
   "outputs": [
    {
     "name": "stderr",
     "output_type": "stream",
     "text": [
      "/home/csdms/wmt/topoflow.1/conda/lib/python2.7/site-packages/numpy/core/fromnumeric.py:2645: VisibleDeprecationWarning: `rank` is deprecated; use the `ndim` attribute or function instead. To find the rank of a matrix see `numpy.linalg.matrix_rank`.\n",
      "  VisibleDeprecationWarning)\n",
      "/home/csdms/wmt/topoflow.1/opt/topoflow/topoflow/utils/model_input.py:119: FutureWarning: comparison to `None` will result in an elementwise object comparison in the future.\n",
      "  if (data == None):\n",
      "/home/csdms/wmt/topoflow.1/opt/topoflow/topoflow/components/snow_degree_day.py:340: FutureWarning: comparison to `None` will result in an elementwise object comparison in the future.\n",
      "  if (c0 != None): self.c0 = c0\n",
      "/home/csdms/wmt/topoflow.1/opt/topoflow/topoflow/components/snow_degree_day.py:343: FutureWarning: comparison to `None` will result in an elementwise object comparison in the future.\n",
      "  if (T0 != None): self.T0 = T0\n",
      "/home/csdms/wmt/topoflow.1/opt/topoflow/topoflow/components/snow_degree_day.py:346: FutureWarning: comparison to `None` will result in an elementwise object comparison in the future.\n",
      "  if (rho_snow != None): self.rho_snow = rho_snow\n",
      "/home/csdms/wmt/topoflow.1/opt/topoflow/topoflow/components/snow_degree_day.py:349: FutureWarning: comparison to `None` will result in an elementwise object comparison in the future.\n",
      "  if (h0_snow != None): self.h0_snow = h0_snow\n",
      "/home/csdms/wmt/topoflow.1/opt/topoflow/topoflow/components/snow_degree_day.py:352: FutureWarning: comparison to `None` will result in an elementwise object comparison in the future.\n",
      "  if (h0_swe != None): self.h0_swe = h0_swe\n"
     ]
    },
    {
     "name": "stdout",
     "output_type": "stream",
     "text": [
      " \n",
      "Meteorology component: Initializing...\n",
      "In read_input_files():\n",
      "   min(P) = 5.0  [mmph]\n",
      "   max(P) = 5.0  [mmph]\n",
      " \n",
      "SORRY: Cannot yet create lon and lat grids for\n",
      "       this DEM because it uses UTM coordinates.\n",
      "       Will use lat/lon for Denver, Colorado.\n",
      " \n",
      "Imported netCDF4 version: 1.2.2\n",
      " \n",
      "Snow component: Initializing...\n",
      "Imported netCDF4 version: 1.2.2\n"
     ]
    }
   ],
   "source": [
    "met.initialize('./input/meteorology-2.cfg')\n",
    "sno.initialize('./input/snow_degree_day-2.cfg')"
   ]
  },
  {
   "cell_type": "markdown",
   "metadata": {},
   "source": [
    "Store initial values of time, snow depth, and air temperature:"
   ]
  },
  {
   "cell_type": "code",
   "execution_count": 3,
   "metadata": {
    "collapsed": false
   },
   "outputs": [],
   "source": [
    "time = [met.get_current_time()]\n",
    "snow_depth = [sno.get_value('snowpack__depth').max()]\n",
    "air_temp = [met.get_value('atmosphere_bottom_air__temperature').max()]"
   ]
  },
  {
   "cell_type": "markdown",
   "metadata": {},
   "source": [
    "Run the coupled models to completion. In each time step, perform the following actions:\n",
    "\n",
    "1. Get variables from `Meteorology`; set into `SnowDegreeDay`\n",
    "1. Advance `SnowDegreeDay`\n",
    "1. Get variables from `SnowDegreeDay`; set into `Meteorology`\n",
    "1. Advance `Meteorology`"
   ]
  },
  {
   "cell_type": "code",
   "execution_count": 4,
   "metadata": {
    "collapsed": false
   },
   "outputs": [
    {
     "name": "stderr",
     "output_type": "stream",
     "text": [
      "/home/csdms/wmt/topoflow.1/opt/topoflow/topoflow/components/solar_funcs.py:740: FutureWarning: comparison to `None` will result in an elementwise object comparison in the future.\n",
      "  if (hour_num != None):\n"
     ]
    }
   ],
   "source": [
    "count = 1\n",
    "while met.get_current_time() < met.get_end_time():\n",
    "    T_air = met.get_value('atmosphere_bottom_air__temperature')\n",
    "    P_snow = met.get_value('atmosphere_water__snowfall_leq-volume_flux')\n",
    "    T_surf = met.get_value('land_surface__temperature')\n",
    "    rho_H2O = met.get_value('water-liquid__mass-per-volume_density')\n",
    "    sno.set_value('atmosphere_bottom_air__temperature', T_air)\n",
    "    sno.set_value('atmosphere_water__snowfall_leq-volume_flux', P_snow)\n",
    "    sno.set_value('land_surface__temperature', T_surf)\n",
    "    sno.set_value('water-liquid__mass-per-volume_density', rho_H2O)\n",
    "    \n",
    "    sno.update(sno.get_time_step()*count)\n",
    "\n",
    "    rho_snow = sno.get_value('snowpack__z_mean_of_mass-per-volume_density')\n",
    "    h_snow = sno.get_value('snowpack__depth')\n",
    "    h_swe = sno.get_value('snowpack__liquid-equivalent_depth')\n",
    "    SM = sno.get_value('snowpack__melt_volume_flux')\n",
    "    met.set_value('snowpack__z_mean_of_mass-per-volume_density', rho_snow)\n",
    "    met.set_value('snowpack__depth', h_snow)\n",
    "    met.set_value('snowpack__liquid-equivalent_depth', h_swe)\n",
    "    met.set_value('snowpack__melt_volume_flux', SM)\n",
    "\n",
    "    met.update(met.get_time_step()*count)\n",
    "    \n",
    "    time.append(met.get_current_time())\n",
    "    snow_depth.append(sno.get_value('snowpack__depth').max())\n",
    "    air_temp.append(met.get_value('atmosphere_bottom_air__temperature').max())\n",
    "    \n",
    "    count += 1"
   ]
  },
  {
   "cell_type": "code",
   "execution_count": 5,
   "metadata": {
    "collapsed": false
   },
   "outputs": [
    {
     "name": "stdout",
     "output_type": "stream",
     "text": [
      "[0.0, 600.0, 1200.0, 1800.0, 2400.0, 3000.0, 3600.0, 4200.0, 4800.0, 5400.0, 6000.0, 6600.0, 7200.0, 7800.0, 8400.0, 9000.0, 9600.0, 10200.0, 10800.0, 11400.0, 12000.0, 12600.0, 13200.0, 13800.0, 14400.0, 15000.0, 15600.0, 16200.0, 16800.0, 17400.0, 18000.0, 18600.0, 19200.0, 19800.0, 20400.0, 21000.0, 21600.0]\n"
     ]
    }
   ],
   "source": [
    "print time"
   ]
  },
  {
   "cell_type": "code",
   "execution_count": 6,
   "metadata": {
    "collapsed": false
   },
   "outputs": [
    {
     "name": "stdout",
     "output_type": "stream",
     "text": [
      "[1.0, 0.49967501986228896, 0.49935001985636296, 0.49902501985043696, 0.49870001984451096, 0.49837501983858495, 0.49805001983265895, 0.49772501982673295, 0.49740001982080695, 0.49707501981488095, 0.49675001980895495, 0.49642501980302894, 0.49610001979710294, 0.49577501979117694, 0.49545001978525094, 0.49512501977932494, 0.49480001977339894, 0.49447501976747293, 0.49415001976154693, 0.49382501975562093, 0.49350001974969493, 0.49317501974376893, 0.49285001973784293, 0.49252501973191692, 0.49220001972599092, 0.49187501972006492, 0.49155001971413892, 0.49122501970821292, 0.49090001970228692, 0.49057501969636091, 0.49025001969043491, 0.48992501968450891, 0.48960001967858291, 0.48927501967265691, 0.48895001966673091, 0.4886250196608049, 0.4883000196548789]\n"
     ]
    }
   ],
   "source": [
    "print snow_depth"
   ]
  },
  {
   "cell_type": "code",
   "execution_count": 7,
   "metadata": {
    "collapsed": false
   },
   "outputs": [
    {
     "name": "stdout",
     "output_type": "stream",
     "text": [
      "[5.0, 5.0, 5.0, 5.0, 5.0, 5.0, 5.0, 5.0, 5.0, 5.0, 5.0, 5.0, 5.0, 5.0, 5.0, 5.0, 5.0, 5.0, 5.0, 5.0, 5.0, 5.0, 5.0, 5.0, 5.0, 5.0, 5.0, 5.0, 5.0, 5.0, 5.0, 5.0, 5.0, 5.0, 5.0, 5.0, 5.0]\n"
     ]
    }
   ],
   "source": [
    "print air_temp"
   ]
  },
  {
   "cell_type": "markdown",
   "metadata": {},
   "source": [
    "Finalize the components:"
   ]
  },
  {
   "cell_type": "code",
   "execution_count": 8,
   "metadata": {
    "collapsed": false
   },
   "outputs": [
    {
     "name": "stdout",
     "output_type": "stream",
     "text": [
      "Meteorology component: Finished.\n",
      "Snow component: Finished.\n"
     ]
    },
    {
     "data": {
      "text/plain": [
       "(None, None)"
      ]
     },
     "execution_count": 8,
     "metadata": {},
     "output_type": "execute_result"
    }
   ],
   "source": [
    "met.finalize(), sno.finalize()"
   ]
  },
  {
   "cell_type": "markdown",
   "metadata": {},
   "source": [
    "Plot snow depth versus time."
   ]
  },
  {
   "cell_type": "code",
   "execution_count": 9,
   "metadata": {
    "collapsed": true
   },
   "outputs": [],
   "source": [
    "%matplotlib inline\n",
    "from matplotlib import pyplot as plt"
   ]
  },
  {
   "cell_type": "code",
   "execution_count": 10,
   "metadata": {
    "collapsed": false
   },
   "outputs": [
    {
     "data": {
      "text/plain": [
       "<matplotlib.text.Text at 0x2b36f6068c50>"
      ]
     },
     "execution_count": 10,
     "metadata": {},
     "output_type": "execute_result"
    },
    {
     "data": {
      "image/png": "[encoded data removed]",
      "text/plain": [
       "<matplotlib.figure.Figure at 0x2b36f6042510>"
      ]
     },
     "metadata": {},
     "output_type": "display_data"
    }
   ],
   "source": [
    "plt.plot(time[1:], snow_depth[1:])\n",
    "plt.title('Snow depth versus time')\n",
    "plt.xlabel('Time [s]')\n",
    "plt.ylabel('Snow depth [m]')"
   ]
  },
  {
   "cell_type": "markdown",
   "metadata": {},
   "source": [
    "**Result:** Works!"
   ]
  }
 ],
 "metadata": {
  "kernelspec": {
   "display_name": "Python 2",
   "language": "python",
   "name": "python2"
  },
  "language_info": {
   "codemirror_mode": {
    "name": "ipython",
    "version": 2
   },
   "file_extension": ".py",
   "mimetype": "text/x-python",
   "name": "python",
   "nbconvert_exporter": "python",
   "pygments_lexer": "ipython2",
   "version": "2.7.10"
  }
 },
 "nbformat": 4,
 "nbformat_minor": 0
}
