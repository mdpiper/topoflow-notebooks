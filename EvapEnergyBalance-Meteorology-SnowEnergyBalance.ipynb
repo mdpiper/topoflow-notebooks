{
 "cells": [
  {
   "cell_type": "markdown",
   "metadata": {},
   "source": [
    "# EvapEnergyBalance-Meteorology-SnowEnergyBalance coupling"
   ]
  },
  {
   "cell_type": "markdown",
   "metadata": {},
   "source": [
    "**Goal:** Try to successfully run a coupled `EvapEnergyBalance-Meteorology-SnowEnergyBalance` simulation, with `EvapEnergyBalance` as the driver."
   ]
  },
  {
   "cell_type": "markdown",
   "metadata": {},
   "source": [
    "Import the Babel-wrapped `EvapEnergyBalance`, `Meteorology` and `SnowEnergyBalance` components and create instances:"
   ]
  },
  {
   "cell_type": "code",
   "execution_count": null,
   "metadata": {
    "collapsed": false
   },
   "outputs": [],
   "source": [
    "from cmt.components import EvapEnergyBalance, Meteorology, SnowEnergyBalance\n",
    "evp, met, sno = EvapEnergyBalance(), Meteorology(), SnowEnergyBalance()"
   ]
  },
  {
   "cell_type": "markdown",
   "metadata": {},
   "source": [
    "Initialize the components with cfg files that, for simplicity, use the same time step and run duration:"
   ]
  },
  {
   "cell_type": "code",
   "execution_count": null,
   "metadata": {
    "collapsed": false
   },
   "outputs": [],
   "source": [
    "evp.initialize('./input/evap_energy_balance-1.cfg')\n",
    "met.initialize('./input/meteorology-2.cfg')\n",
    "sno.initialize('./input/snow_energy_balance-1.cfg')"
   ]
  },
  {
   "cell_type": "markdown",
   "metadata": {},
   "source": [
    "Store initial values of time, snow depth, and air temperature:"
   ]
  },
  {
   "cell_type": "code",
   "execution_count": null,
   "metadata": {
    "collapsed": true
   },
   "outputs": [],
   "source": [
    "time = [met.get_current_time()]\n",
    "snow_depth = [sno.get_value('snowpack__depth').max()]\n",
    "air_temp = [met.get_value('atmosphere_bottom_air__temperature').max()]\n",
    "evap_flux = [evp.get_value('land_surface_water__evaporation_volume_flux').max()]"
   ]
  },
  {
   "cell_type": "markdown",
   "metadata": {},
   "source": [
    "Run the coupled models to completion. In each time step, perform the following actions:\n",
    "\n",
    "1. Get variables from `Meteorology`; set into `SnowEnergyBalance`\n",
    "1. Advance `SnowEnergyBalance`\n",
    "1. Get variables from `SnowEnergyBalance`; set into `Meteorology`\n",
    "1. Advance `Meteorology`\n",
    "1. Get variables from `Meteorology` and `SnowEnergyBalance`; set into `EvapEnergyBalance`\n",
    "1. Advance `EvapEnergyBalance`"
   ]
  },
  {
   "cell_type": "code",
   "execution_count": null,
   "metadata": {
    "collapsed": false
   },
   "outputs": [],
   "source": [
    "count = 1\n",
    "while evp.get_current_time() < evp.get_end_time():  \n",
    "    rho_air = met.get_value('atmosphere_bottom_air__mass-per-volume_density')\n",
    "    Cp_air = met.get_value('atmosphere_bottom_air__mass-specific_isobaric_heat_capacity')\n",
    "    T_air = met.get_value('atmosphere_bottom_air__temperature')\n",
    "    P_snow = met.get_value('atmosphere_water__snowfall_leq-volume_flux')\n",
    "    T_surf = met.get_value('land_surface__temperature')\n",
    "    Q_sum = met.get_value('land_surface_net-total-energy__energy_flux')\n",
    "    rho_H2O = met.get_value('water-liquid__mass-per-volume_density')\n",
    "    sno.set_value('atmosphere_bottom_air__mass-per-volume_density', rho_air)\n",
    "    sno.set_value('atmosphere_bottom_air__mass-specific_isobaric_heat_capacity', Cp_air)\n",
    "    sno.set_value('atmosphere_bottom_air__temperature', T_air)\n",
    "    sno.set_value('atmosphere_water__snowfall_leq-volume_flux', P_snow)\n",
    "    sno.set_value('land_surface__temperature', T_surf)\n",
    "    sno.set_value('land_surface_net-total-energy__energy_flux', Q_sum)\n",
    "    sno.set_value('water-liquid__mass-per-volume_density', rho_H2O)\n",
    "    \n",
    "    sno.update(sno.get_time_step()*count)\n",
    "\n",
    "    rho_snow = sno.get_value('snowpack__z_mean_of_mass-per-volume_density')\n",
    "    h_snow = sno.get_value('snowpack__depth')\n",
    "    h_swe = sno.get_value('snowpack__liquid-equivalent_depth')\n",
    "    SM = sno.get_value('snowpack__melt_volume_flux')\n",
    "    met.set_value('snowpack__z_mean_of_mass-per-volume_density', rho_snow)\n",
    "    met.set_value('snowpack__depth', h_snow)\n",
    "    met.set_value('snowpack__liquid-equivalent_depth', h_swe)\n",
    "    met.set_value('snowpack__melt_volume_flux', SM)\n",
    "\n",
    "    met.update(met.get_time_step()*count)\n",
    "    \n",
    "    T_air = met.get_value('atmosphere_bottom_air__temperature')\n",
    "    Qe = met.get_value('atmosphere_bottom_air_land_net-latent-heat__energy_flux')\n",
    "    Q_sum = met.get_value('land_surface_net-total-energy__energy_flux')\n",
    "    T_surf = met.get_value('land_surface__temperature')\n",
    "    h_snow = sno.get_value('snowpack__depth')\n",
    "    evp.set_value('atmosphere_bottom_air__temperature', T_air)\n",
    "    evp.set_value('atmosphere_bottom_air_land_net-latent-heat__energy_flux', Qe)\n",
    "    evp.set_value('land_surface_net-total-energy__energy_flux', Q_sum)\n",
    "    evp.set_value('land_surface__temperature', T_surf)\n",
    "    evp.set_value('snowpack__depth', h_snow)\n",
    "    \n",
    "    evp.update(evp.get_time_step()*count)\n",
    "    \n",
    "    time.append(met.get_current_time())\n",
    "    snow_depth.append(sno.get_value('snowpack__depth').max())\n",
    "    air_temp.append(met.get_value('atmosphere_bottom_air__temperature').max())\n",
    "    evap_flux.append(evp.get_value('land_surface_water__evaporation_volume_flux').max())\n",
    "    \n",
    "    count += 1"
   ]
  },
  {
   "cell_type": "code",
   "execution_count": null,
   "metadata": {
    "collapsed": false
   },
   "outputs": [],
   "source": [
    "print time"
   ]
  },
  {
   "cell_type": "code",
   "execution_count": null,
   "metadata": {
    "collapsed": false
   },
   "outputs": [],
   "source": [
    "print snow_depth"
   ]
  },
  {
   "cell_type": "code",
   "execution_count": null,
   "metadata": {
    "collapsed": false
   },
   "outputs": [],
   "source": [
    "print air_temp"
   ]
  },
  {
   "cell_type": "code",
   "execution_count": null,
   "metadata": {
    "collapsed": false
   },
   "outputs": [],
   "source": [
    "print evap_flux"
   ]
  },
  {
   "cell_type": "markdown",
   "metadata": {},
   "source": [
    "Finalize the components:"
   ]
  },
  {
   "cell_type": "code",
   "execution_count": null,
   "metadata": {
    "collapsed": false
   },
   "outputs": [],
   "source": [
    "evp.finalize(), met.finalize(), sno.finalize()"
   ]
  },
  {
   "cell_type": "markdown",
   "metadata": {},
   "source": [
    "Plot snow depth versus time."
   ]
  },
  {
   "cell_type": "code",
   "execution_count": null,
   "metadata": {
    "collapsed": true
   },
   "outputs": [],
   "source": [
    "%matplotlib inline\n",
    "from matplotlib import pyplot as plt"
   ]
  },
  {
   "cell_type": "code",
   "execution_count": null,
   "metadata": {
    "collapsed": false
   },
   "outputs": [],
   "source": [
    "fig, axes = plt.subplots(nrows=1, ncols=2, figsize=(12, 5))\n",
    "\n",
    "snow_depth_plot = axes[0].plot(time[1:], snow_depth[1:], 'b')\n",
    "axes[0].set_title('Snow depth versus time')\n",
    "axes[0].set_xlabel('Time [s]')\n",
    "axes[0].set_ylabel('Snow depth [m]')\n",
    "\n",
    "evap_flux_plot = axes[1].plot(time[1:], evap_flux[1:], 'r')\n",
    "axes[1].set_title('Evaporative flux versus time')\n",
    "axes[1].set_xlabel('Time [s]')\n",
    "axes[1].set_ylabel('Evaporative flux [m s-1]')"
   ]
  },
  {
   "cell_type": "markdown",
   "metadata": {},
   "source": [
    "**Result:** Indeterminate."
   ]
  }
 ],
 "metadata": {
  "kernelspec": {
   "display_name": "Python 2",
   "language": "python",
   "name": "python2"
  },
  "language_info": {
   "codemirror_mode": {
    "name": "ipython",
    "version": 2
   },
   "file_extension": ".py",
   "mimetype": "text/x-python",
   "name": "python",
   "nbconvert_exporter": "python",
   "pygments_lexer": "ipython2",
   "version": "2.7.10"
  }
 },
 "nbformat": 4,
 "nbformat_minor": 0
}
